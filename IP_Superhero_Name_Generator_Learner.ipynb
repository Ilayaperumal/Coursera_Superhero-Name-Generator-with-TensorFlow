{
  "cells": [
    {
      "cell_type": "markdown",
      "metadata": {
        "id": "view-in-github",
        "colab_type": "text"
      },
      "source": [
        "<a href=\"https://colab.research.google.com/github/Ilayaperumal/Coursera_Superhero-Name-Generator-with-TensorFlow/blob/main/IP_Superhero_Name_Generator_Learner.ipynb\" target=\"_parent\"><img src=\"https://colab.research.google.com/assets/colab-badge.svg\" alt=\"Open In Colab\"/></a>"
      ]
    },
    {
      "cell_type": "markdown",
      "metadata": {
        "id": "21XXWP7Fpt2L"
      },
      "source": [
        "# Superhero (and Supervillain) Name Generator\n",
        "\n",
        "---\n",
        "\n",
        "[Superhero Names Dataset](https://github.com/am1tyadav/superhero)"
      ]
    },
    {
      "cell_type": "markdown",
      "metadata": {
        "id": "H6P0NU5Cpt2R"
      },
      "source": [
        "## Task 2\n",
        "\n",
        "1. Import the data\n",
        "2. Create a tokenizer\n",
        "3. Char to index and Index to char dictionaries"
      ]
    },
    {
      "cell_type": "code",
      "execution_count": 1,
      "metadata": {
        "id": "srULhalZpt2M",
        "colab": {
          "base_uri": "https://localhost:8080/"
        },
        "outputId": "d09f961d-5c88-4f82-9c63-c918f71560e2"
      },
      "outputs": [
        {
          "output_type": "stream",
          "name": "stdout",
          "text": [
            "Cloning into 'superhero'...\n",
            "remote: Enumerating objects: 8, done.\u001b[K\n",
            "remote: Counting objects: 100% (8/8), done.\u001b[K\n",
            "remote: Compressing objects: 100% (7/7), done.\u001b[K\n",
            "remote: Total 8 (delta 0), reused 4 (delta 0), pack-reused 0\u001b[K\n",
            "Unpacking objects: 100% (8/8), 47.06 KiB | 4.28 MiB/s, done.\n"
          ]
        }
      ],
      "source": [
        "!git clone https://github.com/am1tyadav/superhero"
      ]
    },
    {
      "cell_type": "code",
      "execution_count": 2,
      "metadata": {
        "id": "uq4CLmsLpt2P",
        "colab": {
          "base_uri": "https://localhost:8080/",
          "height": 35
        },
        "outputId": "f274cd10-0ed4-4adc-9da3-36bb3bdf99f7"
      },
      "outputs": [
        {
          "output_type": "execute_result",
          "data": {
            "text/plain": [
              "'jumpa\\t\\ndoctor fate\\t\\nstarlight\\t\\nisildur\\t\\nlasher\\t\\nvarvara\\t\\nthe target\\t\\naxel\\t\\nbattra\\t\\nchangeling\\t\\npyrrh'"
            ],
            "application/vnd.google.colaboratory.intrinsic+json": {
              "type": "string"
            }
          },
          "metadata": {},
          "execution_count": 2
        }
      ],
      "source": [
        "with open('superhero/superheroes.txt', 'r') as f:\n",
        "  data = f.read()\n",
        "\n",
        "data[:100]"
      ]
    },
    {
      "cell_type": "code",
      "execution_count": 3,
      "metadata": {
        "id": "JqhtLuAHpt2R",
        "colab": {
          "base_uri": "https://localhost:8080/"
        },
        "outputId": "70ed181f-52ef-40b9-9d22-2dbcf07539ff"
      },
      "outputs": [
        {
          "output_type": "stream",
          "name": "stdout",
          "text": [
            "2.11.0\n"
          ]
        }
      ],
      "source": [
        "import tensorflow as tf \n",
        "print(tf.__version__)"
      ]
    },
    {
      "cell_type": "code",
      "execution_count": 4,
      "metadata": {
        "id": "95Lo1Yqzpt2T"
      },
      "outputs": [],
      "source": [
        "tokenizer = tf.keras.preprocessing.text.Tokenizer(\n",
        "    filters = '!\"#$%&()*+,-./:;<=>?@[\\\\]^_`{|}~',\n",
        "    split = '\\n',\n",
        ")"
      ]
    },
    {
      "cell_type": "code",
      "execution_count": 5,
      "metadata": {
        "id": "qYfC4sj2pt2V"
      },
      "outputs": [],
      "source": [
        "tokenizer.fit_on_texts(data)"
      ]
    },
    {
      "cell_type": "code",
      "execution_count": 6,
      "metadata": {
        "id": "EO4-dPM6pt2X",
        "colab": {
          "base_uri": "https://localhost:8080/"
        },
        "outputId": "098ebf37-a347-46e2-e8eb-25eeefe9c922"
      },
      "outputs": [
        {
          "output_type": "stream",
          "name": "stdout",
          "text": [
            "{1: '\\t', 2: 'a', 3: 'e', 4: 'r', 5: 'o', 6: 'n', 7: 'i', 8: ' ', 9: 't', 10: 's', 11: 'l', 12: 'm', 13: 'h', 14: 'd', 15: 'c', 16: 'u', 17: 'g', 18: 'k', 19: 'b', 20: 'p', 21: 'y', 22: 'w', 23: 'f', 24: 'v', 25: 'j', 26: 'z', 27: 'x', 28: 'q'}\n"
          ]
        }
      ],
      "source": [
        "char_to_index = tokenizer.word_index\n",
        "index_to_char = dict((v, k) for k, v in char_to_index.items())\n",
        "\n",
        "print(index_to_char)"
      ]
    },
    {
      "cell_type": "markdown",
      "metadata": {
        "id": "SMwtIw_Bpt2Z"
      },
      "source": [
        "## Task 3\n",
        "\n",
        "1. Converting between names and sequences"
      ]
    },
    {
      "cell_type": "code",
      "execution_count": 7,
      "metadata": {
        "id": "N7iQLIXzpt2a",
        "colab": {
          "base_uri": "https://localhost:8080/"
        },
        "outputId": "9967a70d-b29f-404a-81f3-d55e74910bab"
      },
      "outputs": [
        {
          "output_type": "execute_result",
          "data": {
            "text/plain": [
              "['jumpa\\t',\n",
              " 'doctor fate\\t',\n",
              " 'starlight\\t',\n",
              " 'isildur\\t',\n",
              " 'lasher\\t',\n",
              " 'varvara\\t',\n",
              " 'the target\\t',\n",
              " 'axel\\t',\n",
              " 'battra\\t',\n",
              " 'changeling\\t']"
            ]
          },
          "metadata": {},
          "execution_count": 7
        }
      ],
      "source": [
        "names = data.splitlines()\n",
        "names[:10]"
      ]
    },
    {
      "cell_type": "code",
      "execution_count": 8,
      "metadata": {
        "id": "n_-TTfqipt2c",
        "colab": {
          "base_uri": "https://localhost:8080/"
        },
        "outputId": "e9087bdb-e928-4a5d-8c1a-c4263b66c4bc"
      },
      "outputs": [
        {
          "output_type": "execute_result",
          "data": {
            "text/plain": [
              "[[25], [16], [12], [20], [2], [1]]"
            ]
          },
          "metadata": {},
          "execution_count": 8
        }
      ],
      "source": [
        "tokenizer.texts_to_sequences(names[0])"
      ]
    },
    {
      "cell_type": "code",
      "execution_count": 9,
      "metadata": {
        "id": "P6IsKH1Upt2e"
      },
      "outputs": [],
      "source": [
        "def name_to_seq(name):\n",
        "  return [tokenizer.texts_to_sequences(c)[0][0] for c in name]"
      ]
    },
    {
      "cell_type": "code",
      "execution_count": 10,
      "metadata": {
        "id": "TuLUiMP3pt2g",
        "colab": {
          "base_uri": "https://localhost:8080/"
        },
        "outputId": "59a6ac5c-4d17-4205-a18c-ffc00a82c464"
      },
      "outputs": [
        {
          "output_type": "execute_result",
          "data": {
            "text/plain": [
              "[25, 16, 12, 20, 2, 1]"
            ]
          },
          "metadata": {},
          "execution_count": 10
        }
      ],
      "source": [
        "name_to_seq(names[0])"
      ]
    },
    {
      "cell_type": "code",
      "execution_count": 11,
      "metadata": {
        "id": "yFUYhimKpt2h"
      },
      "outputs": [],
      "source": [
        "def seq_to_name(seq):\n",
        "  return ''.join([index_to_char[i] for i in seq if i != 0])"
      ]
    },
    {
      "cell_type": "code",
      "execution_count": 12,
      "metadata": {
        "id": "ROhCqmhLpt2k",
        "colab": {
          "base_uri": "https://localhost:8080/",
          "height": 35
        },
        "outputId": "2a459d00-9f51-49fc-8a71-92681992ad5a"
      },
      "outputs": [
        {
          "output_type": "execute_result",
          "data": {
            "text/plain": [
              "'jumpa\\t'"
            ],
            "application/vnd.google.colaboratory.intrinsic+json": {
              "type": "string"
            }
          },
          "metadata": {},
          "execution_count": 12
        }
      ],
      "source": [
        "seq_to_name(name_to_seq(names[0]))"
      ]
    },
    {
      "cell_type": "markdown",
      "metadata": {
        "id": "uCbAzsNjpt2m"
      },
      "source": [
        "## Task 4\n",
        "\n",
        "1. Creating sequences\n",
        "2. Padding all sequences"
      ]
    },
    {
      "cell_type": "code",
      "execution_count": 13,
      "metadata": {
        "id": "zstNn-0dpt2m"
      },
      "outputs": [],
      "source": [
        "sequences= []\n",
        "\n",
        "for name in names:\n",
        "  seq = name_to_seq(name)\n",
        "  if len(seq) >= 2:\n",
        "    sequences += [seq[:i] for i in range(2, len(seq) + 1)]"
      ]
    },
    {
      "cell_type": "code",
      "execution_count": 14,
      "metadata": {
        "id": "BjRTMysvpt2o",
        "colab": {
          "base_uri": "https://localhost:8080/"
        },
        "outputId": "04542acb-5fec-4f45-cc81-d13d67bede1f"
      },
      "outputs": [
        {
          "output_type": "execute_result",
          "data": {
            "text/plain": [
              "[[25, 16],\n",
              " [25, 16, 12],\n",
              " [25, 16, 12, 20],\n",
              " [25, 16, 12, 20, 2],\n",
              " [25, 16, 12, 20, 2, 1],\n",
              " [14, 5],\n",
              " [14, 5, 15],\n",
              " [14, 5, 15, 9],\n",
              " [14, 5, 15, 9, 5],\n",
              " [14, 5, 15, 9, 5, 4]]"
            ]
          },
          "metadata": {},
          "execution_count": 14
        }
      ],
      "source": [
        "sequences[:10]"
      ]
    },
    {
      "cell_type": "code",
      "execution_count": 15,
      "metadata": {
        "id": "SR68pu2tpt2q",
        "colab": {
          "base_uri": "https://localhost:8080/"
        },
        "outputId": "0927d11b-ceb4-4354-b587-1da8622e5355"
      },
      "outputs": [
        {
          "output_type": "stream",
          "name": "stdout",
          "text": [
            "33\n"
          ]
        }
      ],
      "source": [
        "max_len = max([len(x) for x in sequences])\n",
        "print(max_len)"
      ]
    },
    {
      "cell_type": "code",
      "execution_count": 16,
      "metadata": {
        "id": "h_1BtWO7pt2r",
        "colab": {
          "base_uri": "https://localhost:8080/"
        },
        "outputId": "02f4c94b-a5e1-411a-fc9f-7d8a5567517a"
      },
      "outputs": [
        {
          "output_type": "stream",
          "name": "stdout",
          "text": [
            "[ 0  0  0  0  0  0  0  0  0  0  0  0  0  0  0  0  0  0  0  0  0  0  0  0\n",
            "  0  0  0  0  0  0  0 25 16]\n"
          ]
        }
      ],
      "source": [
        "padded_sequences = tf.keras.preprocessing.sequence.pad_sequences(\n",
        "    sequences, padding='pre',\n",
        "    maxlen=max_len\n",
        ")\n",
        "\n",
        "print(padded_sequences[0])"
      ]
    },
    {
      "cell_type": "code",
      "execution_count": 17,
      "metadata": {
        "id": "sPlrLRpSpt2t",
        "colab": {
          "base_uri": "https://localhost:8080/"
        },
        "outputId": "4d8b79c3-e2bc-4fdb-b803-4460c835b13c"
      },
      "outputs": [
        {
          "output_type": "execute_result",
          "data": {
            "text/plain": [
              "(88279, 33)"
            ]
          },
          "metadata": {},
          "execution_count": 17
        }
      ],
      "source": [
        "padded_sequences.shape"
      ]
    },
    {
      "cell_type": "markdown",
      "metadata": {
        "id": "MV0iWvURPu1t"
      },
      "source": [
        "## Task 5: Creating Training and Validation Sets\n",
        "\n",
        "1. Creating training and validation sets"
      ]
    },
    {
      "cell_type": "code",
      "execution_count": 18,
      "metadata": {
        "id": "BE4BIeSnpt2v",
        "colab": {
          "base_uri": "https://localhost:8080/"
        },
        "outputId": "812a7c16-c89e-4c86-a5cb-6f3bcd737607"
      },
      "outputs": [
        {
          "output_type": "stream",
          "name": "stdout",
          "text": [
            "(88279, 32) (88279,)\n",
            "[[ 0  0  0 ...  0  0 25]\n",
            " [ 0  0  0 ...  0 25 16]\n",
            " [ 0  0  0 ... 25 16 12]\n",
            " ...\n",
            " [ 0  0  0 ... 15 11  5]\n",
            " [ 0  0  0 ... 11  5 20]\n",
            " [ 0  0  0 ...  5 20 10]]\n"
          ]
        }
      ],
      "source": [
        "x, y = padded_sequences[:, :-1], padded_sequences[:, -1]\n",
        "print(x.shape, y.shape)\n",
        "print(x)"
      ]
    },
    {
      "cell_type": "code",
      "execution_count": 19,
      "metadata": {
        "id": "o76wkjxEPu1u",
        "colab": {
          "base_uri": "https://localhost:8080/"
        },
        "outputId": "7a58771f-0137-44f9-d353-a6deb9c8f8eb"
      },
      "outputs": [
        {
          "output_type": "stream",
          "name": "stdout",
          "text": [
            "(66209, 32) (66209,)\n",
            "(22070, 32) (22070,)\n"
          ]
        }
      ],
      "source": [
        "from sklearn.model_selection import train_test_split\n",
        "\n",
        "x_train, x_test, y_train, y_test = train_test_split(x, y)\n",
        "\n",
        "print(x_train.shape, y_train.shape)\n",
        "print(x_test.shape, y_test.shape)"
      ]
    },
    {
      "cell_type": "code",
      "execution_count": 20,
      "metadata": {
        "id": "cgqRZtqnpt2x",
        "colab": {
          "base_uri": "https://localhost:8080/"
        },
        "outputId": "1c7865fb-1de8-45e4-c0fd-67027b0eb13f"
      },
      "outputs": [
        {
          "output_type": "stream",
          "name": "stdout",
          "text": [
            "29\n"
          ]
        }
      ],
      "source": [
        "num_chars = len(char_to_index.keys()) + 1\n",
        "print(num_chars)"
      ]
    },
    {
      "cell_type": "markdown",
      "metadata": {
        "id": "pg9hhhANPu1u"
      },
      "source": [
        "## Task 6: Creating the Model"
      ]
    },
    {
      "cell_type": "code",
      "execution_count": 21,
      "metadata": {
        "id": "KPGllRb_Pu1u",
        "colab": {
          "base_uri": "https://localhost:8080/"
        },
        "outputId": "5503495f-6eb2-4c55-e225-aadeffaaeb43"
      },
      "outputs": [
        {
          "output_type": "stream",
          "name": "stdout",
          "text": [
            "Model: \"sequential\"\n",
            "_________________________________________________________________\n",
            " Layer (type)                Output Shape              Param #   \n",
            "=================================================================\n",
            " embedding (Embedding)       (None, 32, 8)             232       \n",
            "                                                                 \n",
            " conv1d (Conv1D)             (None, 32, 64)            2624      \n",
            "                                                                 \n",
            " max_pooling1d (MaxPooling1D  (None, 16, 64)           0         \n",
            " )                                                               \n",
            "                                                                 \n",
            " lstm (LSTM)                 (None, 32)                12416     \n",
            "                                                                 \n",
            " dense (Dense)               (None, 29)                957       \n",
            "                                                                 \n",
            "=================================================================\n",
            "Total params: 16,229\n",
            "Trainable params: 16,229\n",
            "Non-trainable params: 0\n",
            "_________________________________________________________________\n"
          ]
        }
      ],
      "source": [
        "from tensorflow.keras.models import Sequential\n",
        "from tensorflow.keras.layers import Embedding, Conv1D, MaxPool1D, LSTM\n",
        "from tensorflow.keras.layers import Bidirectional, Dense\n",
        "\n",
        "model = Sequential([\n",
        "                    Embedding(num_chars, 8, input_length=max_len-1),\n",
        "                    Conv1D(64, 5, strides=1, activation = 'tanh', padding = 'causal'),\n",
        "                    MaxPool1D(2),\n",
        "                    LSTM(32),\n",
        "                    Dense(num_chars, activation = 'softmax')\n",
        "])\n",
        "\n",
        "model.compile(\n",
        "    loss = 'sparse_categorical_crossentropy',\n",
        "    optimizer = 'adam',\n",
        "    metrics = ['accuracy']\n",
        ")\n",
        "\n",
        "model.summary()"
      ]
    },
    {
      "cell_type": "markdown",
      "metadata": {
        "id": "Xb55gDWqPu1u"
      },
      "source": [
        "## Task 7: Training the Model"
      ]
    },
    {
      "cell_type": "code",
      "execution_count": 22,
      "metadata": {
        "id": "j0Ssl4qupt22",
        "colab": {
          "base_uri": "https://localhost:8080/"
        },
        "outputId": "3350e6cf-db20-45f5-a18f-aaa6f422eb26"
      },
      "outputs": [
        {
          "output_type": "stream",
          "name": "stdout",
          "text": [
            "Epoch 1/50\n",
            "2070/2070 - 27s - loss: 2.7470 - accuracy: 0.1890 - val_loss: 2.6006 - val_accuracy: 0.2202 - 27s/epoch - 13ms/step\n",
            "Epoch 2/50\n",
            "2070/2070 - 12s - loss: 2.5431 - accuracy: 0.2341 - val_loss: 2.5183 - val_accuracy: 0.2359 - 12s/epoch - 6ms/step\n",
            "Epoch 3/50\n",
            "2070/2070 - 13s - loss: 2.4724 - accuracy: 0.2566 - val_loss: 2.4664 - val_accuracy: 0.2549 - 13s/epoch - 6ms/step\n",
            "Epoch 4/50\n",
            "2070/2070 - 14s - loss: 2.4231 - accuracy: 0.2699 - val_loss: 2.4246 - val_accuracy: 0.2662 - 14s/epoch - 7ms/step\n",
            "Epoch 5/50\n",
            "2070/2070 - 12s - loss: 2.3841 - accuracy: 0.2828 - val_loss: 2.4021 - val_accuracy: 0.2745 - 12s/epoch - 6ms/step\n",
            "Epoch 6/50\n",
            "2070/2070 - 13s - loss: 2.3521 - accuracy: 0.2915 - val_loss: 2.3770 - val_accuracy: 0.2802 - 13s/epoch - 6ms/step\n",
            "Epoch 7/50\n",
            "2070/2070 - 13s - loss: 2.3249 - accuracy: 0.2988 - val_loss: 2.3551 - val_accuracy: 0.2861 - 13s/epoch - 6ms/step\n",
            "Epoch 8/50\n",
            "2070/2070 - 13s - loss: 2.3010 - accuracy: 0.3075 - val_loss: 2.3383 - val_accuracy: 0.2929 - 13s/epoch - 7ms/step\n",
            "Epoch 9/50\n",
            "2070/2070 - 12s - loss: 2.2791 - accuracy: 0.3113 - val_loss: 2.3203 - val_accuracy: 0.3010 - 12s/epoch - 6ms/step\n",
            "Epoch 10/50\n",
            "2070/2070 - 12s - loss: 2.2603 - accuracy: 0.3176 - val_loss: 2.3073 - val_accuracy: 0.3031 - 12s/epoch - 6ms/step\n",
            "Epoch 11/50\n",
            "2070/2070 - 13s - loss: 2.2407 - accuracy: 0.3230 - val_loss: 2.2945 - val_accuracy: 0.3074 - 13s/epoch - 6ms/step\n",
            "Epoch 12/50\n",
            "2070/2070 - 13s - loss: 2.2225 - accuracy: 0.3270 - val_loss: 2.2842 - val_accuracy: 0.3154 - 13s/epoch - 6ms/step\n",
            "Epoch 13/50\n",
            "2070/2070 - 15s - loss: 2.2058 - accuracy: 0.3336 - val_loss: 2.2758 - val_accuracy: 0.3211 - 15s/epoch - 7ms/step\n",
            "Epoch 14/50\n",
            "2070/2070 - 13s - loss: 2.1892 - accuracy: 0.3369 - val_loss: 2.2665 - val_accuracy: 0.3197 - 13s/epoch - 6ms/step\n",
            "Epoch 15/50\n",
            "2070/2070 - 13s - loss: 2.1743 - accuracy: 0.3432 - val_loss: 2.2629 - val_accuracy: 0.3247 - 13s/epoch - 6ms/step\n",
            "Epoch 16/50\n",
            "2070/2070 - 13s - loss: 2.1600 - accuracy: 0.3470 - val_loss: 2.2513 - val_accuracy: 0.3277 - 13s/epoch - 6ms/step\n",
            "Epoch 17/50\n",
            "2070/2070 - 13s - loss: 2.1462 - accuracy: 0.3507 - val_loss: 2.2469 - val_accuracy: 0.3281 - 13s/epoch - 6ms/step\n",
            "Epoch 18/50\n",
            "2070/2070 - 13s - loss: 2.1333 - accuracy: 0.3548 - val_loss: 2.2441 - val_accuracy: 0.3324 - 13s/epoch - 6ms/step\n",
            "Epoch 19/50\n",
            "2070/2070 - 13s - loss: 2.1204 - accuracy: 0.3596 - val_loss: 2.2413 - val_accuracy: 0.3313 - 13s/epoch - 6ms/step\n",
            "Epoch 20/50\n",
            "2070/2070 - 12s - loss: 2.1097 - accuracy: 0.3621 - val_loss: 2.2369 - val_accuracy: 0.3343 - 12s/epoch - 6ms/step\n",
            "Epoch 21/50\n",
            "2070/2070 - 13s - loss: 2.0988 - accuracy: 0.3662 - val_loss: 2.2334 - val_accuracy: 0.3362 - 13s/epoch - 6ms/step\n",
            "Epoch 22/50\n",
            "2070/2070 - 12s - loss: 2.0887 - accuracy: 0.3689 - val_loss: 2.2324 - val_accuracy: 0.3387 - 12s/epoch - 6ms/step\n",
            "Epoch 23/50\n",
            "2070/2070 - 13s - loss: 2.0797 - accuracy: 0.3720 - val_loss: 2.2264 - val_accuracy: 0.3394 - 13s/epoch - 6ms/step\n",
            "Epoch 24/50\n",
            "2070/2070 - 13s - loss: 2.0712 - accuracy: 0.3746 - val_loss: 2.2231 - val_accuracy: 0.3429 - 13s/epoch - 6ms/step\n",
            "Epoch 25/50\n",
            "2070/2070 - 13s - loss: 2.0630 - accuracy: 0.3763 - val_loss: 2.2207 - val_accuracy: 0.3441 - 13s/epoch - 6ms/step\n",
            "Epoch 26/50\n",
            "2070/2070 - 13s - loss: 2.0554 - accuracy: 0.3794 - val_loss: 2.2172 - val_accuracy: 0.3456 - 13s/epoch - 6ms/step\n",
            "Epoch 27/50\n",
            "2070/2070 - 15s - loss: 2.0479 - accuracy: 0.3809 - val_loss: 2.2133 - val_accuracy: 0.3467 - 15s/epoch - 7ms/step\n",
            "Epoch 28/50\n",
            "2070/2070 - 12s - loss: 2.0404 - accuracy: 0.3834 - val_loss: 2.2114 - val_accuracy: 0.3511 - 12s/epoch - 6ms/step\n",
            "Epoch 29/50\n",
            "2070/2070 - 13s - loss: 2.0338 - accuracy: 0.3853 - val_loss: 2.2186 - val_accuracy: 0.3474 - 13s/epoch - 6ms/step\n",
            "Epoch 30/50\n",
            "2070/2070 - 13s - loss: 2.0271 - accuracy: 0.3865 - val_loss: 2.2098 - val_accuracy: 0.3472 - 13s/epoch - 6ms/step\n",
            "Epoch 31/50\n",
            "2070/2070 - 12s - loss: 2.0209 - accuracy: 0.3907 - val_loss: 2.2088 - val_accuracy: 0.3500 - 12s/epoch - 6ms/step\n"
          ]
        }
      ],
      "source": [
        "h = model.fit(\n",
        "    x_train, y_train,\n",
        "    validation_data = (x_test, y_test),\n",
        "    epochs = 50, verbose = 2,\n",
        "    callbacks = [\n",
        "               tf.keras.callbacks.EarlyStopping(monitor = 'val_accuracy', patience = 3)\n",
        "    ]\n",
        ")"
      ]
    },
    {
      "cell_type": "code",
      "source": [
        "from matplotlib import pyplot as plt\n",
        "\n",
        "epochs_ran = len(h.history['loss'])\n",
        "\n",
        "plt.plot(range(0, epochs_ran), h.history['val_accuracy'], label = 'Validation')\n",
        "plt.plot(range(0, epochs_ran), h.history['accuracy'], label = 'Training')\n",
        "plt.legend()\n",
        "plt.show()"
      ],
      "metadata": {
        "colab": {
          "base_uri": "https://localhost:8080/",
          "height": 269
        },
        "id": "sO4hlI9JSQVL",
        "outputId": "b28bf838-fec9-4283-d839-549cbf0d9a18"
      },
      "execution_count": 23,
      "outputs": [
        {
          "output_type": "display_data",
          "data": {
            "text/plain": [
              "<Figure size 432x288 with 1 Axes>"
            ],
            "image/png": "[encoded data removed]"
          },
          "metadata": {
            "needs_background": "light"
          }
        }
      ]
    },
    {
      "cell_type": "markdown",
      "metadata": {
        "id": "oqCcrxrlPu1v"
      },
      "source": [
        "## Task 8: Generate Names!"
      ]
    },
    {
      "cell_type": "code",
      "execution_count": 24,
      "metadata": {
        "id": "9f50aTRcpt24"
      },
      "outputs": [],
      "source": [
        "def generate_names(seed):\n",
        "  for i in range(0, 40):\n",
        "    seq = name_to_seq(seed)\n",
        "    padded = tf.keras.preprocessing.sequence.pad_sequences([seq], padding = 'pre',\n",
        "                                                           maxlen = max_len-1,\n",
        "                                                           truncating = 'pre')\n",
        "    pred = model.predict(padded)[0]\n",
        "    pred_char = index_to_char[tf.argmax(pred).numpy()]\n",
        "    seed += pred_char\n",
        "\n",
        "    if pred_char == '\\t':\n",
        "      break\n",
        "  print(seed)"
      ]
    },
    {
      "cell_type": "code",
      "execution_count": 25,
      "metadata": {
        "id": "faQ0FInlpt26",
        "colab": {
          "base_uri": "https://localhost:8080/"
        },
        "outputId": "943869dc-e373-4cf2-fd12-fe6509bd93c4"
      },
      "outputs": [
        {
          "output_type": "stream",
          "name": "stdout",
          "text": [
            "1/1 [==============================] - 0s 473ms/step\n",
            "1/1 [==============================] - 0s 23ms/step\n",
            "1/1 [==============================] - 0s 22ms/step\n",
            "1/1 [==============================] - 0s 21ms/step\n",
            "1/1 [==============================] - 0s 22ms/step\n",
            "sharl\t\n"
          ]
        }
      ],
      "source": [
        "generate_names('s')"
      ]
    }
  ],
  "metadata": {
    "accelerator": "GPU",
    "colab": {
      "provenance": [],
      "include_colab_link": true
    },
    "kernelspec": {
      "display_name": "Python 3",
      "language": "python",
      "name": "python3"
    },
    "language_info": {
      "codemirror_mode": {
        "name": "ipython",
        "version": 3
      },
      "file_extension": ".py",
      "mimetype": "text/x-python",
      "name": "python",
      "nbconvert_exporter": "python",
      "pygments_lexer": "ipython3",
      "version": "3.8.3"
    }
  },
  "nbformat": 4,
  "nbformat_minor": 0
}